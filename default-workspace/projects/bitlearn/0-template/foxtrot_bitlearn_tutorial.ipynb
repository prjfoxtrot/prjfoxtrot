{
 "cells": [
  {
   "cell_type": "markdown",
   "id": "e02b9e30",
   "metadata": {},
   "source": [
    "# Foxtrot-Core · Interactive *Bitstream Learning* Tutorial\n",
    "\n",
    "A comprehensive, hands-on walkthrough of the **BitLearn** workflow.\n",
    "\n",
    "> **Setup (do this first)**\n",
    "> **Required:** install **foxtrot-core with the _analysis_ extra**, plus a TensorFlow backend  \n",
    "> • **CPU (portable, recommended default):**  \n",
    ">   `pip install -U \"foxtrot-core[analysis,cpu]\"`\n",
    ">\n",
    "> • **GPU (Linux/Windows with CUDA):**  \n",
    ">   `pip install -U \"foxtrot-core[analysis,gpu]\"`\n",
    ">\n",
    "> This brings in the data-science stack used by `bitlearn.*` (NumPy, pandas, scikit-learn, ipywidgets, ipympl, matplotlib, etc.) **and** installs TensorFlow (via `cpu` or `gpu`) for training and inference.  \n",
    "\n",
    "The practical steps:\n",
    "\n",
    "1. **Configure** an experiment (titles, feature dims, labels)  \n",
    "2. **Pre-process** raw datasets into `.npz`  \n",
    "3. **Train** single episodes and parameter **sweeps**  \n",
    "4. **Evaluate** models (single label, run, or whole sweep) and inspect detailed metrics\n"
   ]
  },
  {
   "cell_type": "markdown",
   "id": "8868a25a",
   "metadata": {},
   "source": [
    "\n",
    "## How datasets are provided\n",
    "\n",
    "The raw training datasets (≈ 22 GB total) live in a **sub‑module** backed by the public Hugging Face Hub. They are **not** downloaded on a plain `git clone`. Fetch them only when you need to train or evaluate Bit‑Learn models.\n",
    "\n",
    "You can obtain the data in **either** of two ways:\n",
    "\n",
    "- **Via the `prjfoxtrot` repo submodule** (recommended for the VS Code extension workflow)\n",
    "- **Directly from Hugging Face** and copy into your workspace\n",
    "\n",
    "**Expected location (relative to this notebook):** `data/raw/`\n"
   ]
  },
  {
   "cell_type": "markdown",
   "id": "d7f0cb2c",
   "metadata": {},
   "source": [
    "\n",
    "## 0 Environment & Paths\n",
    "\n",
    "This cell defines common paths and prints your environment so you can quickly verify things are in place.\n"
   ]
  },
  {
   "cell_type": "code",
   "execution_count": null,
   "id": "c3a37375",
   "metadata": {},
   "outputs": [],
   "source": [
    "# │ codecell 0 │\n",
    "from pathlib import Path\n",
    "import sys\n",
    "\n",
    "ROOT = Path.cwd()\n",
    "RAW_DIR = ROOT / \"data\" / \"raw\"\n",
    "PRE_DIR = ROOT / \"data\" / \"preprocessed\"\n",
    "EXP_DIR = ROOT / \"experiments\"\n",
    "for d in (RAW_DIR, PRE_DIR, EXP_DIR):\n",
    "    d.mkdir(parents=True, exist_ok=True)\n",
    "\n",
    "print(\"Python:\", sys.version.split()[0])\n",
    "try:\n",
    "    import tensorflow as tf\n",
    "    print(\"TensorFlow:\", tf.__version__)\n",
    "except Exception as e:\n",
    "    print(\"TensorFlow not importable:\", e)\n",
    "\n",
    "print(\"ROOT:\", ROOT)\n",
    "print(\"RAW_DIR exists:\", RAW_DIR.exists(), \"→\", RAW_DIR)\n",
    "print(\"PRE_DIR exists:\", PRE_DIR.exists(), \"→\", PRE_DIR)\n",
    "print(\"EXP_DIR exists:\", EXP_DIR.exists(), \"→\", EXP_DIR)\n"
   ]
  },
  {
   "cell_type": "markdown",
   "id": "2ce1e687",
   "metadata": {},
   "source": [
    "\n",
    "## 1 Get the datasets\n",
    "\n",
    "### Option A — Use the `prjfoxtrot` repo submodule (VS Code extension workflow)\n",
    "\n",
    "From a shell **in your repo root**:\n",
    "\n",
    "```bash\n",
    "# 1) Clone code only (fast)\n",
    "git clone https://github.com/prjfoxtrot/prjfoxtrot.git\n",
    "cd prjfoxtrot\n",
    "\n",
    "# 2) Bring the dataset submodule into your working tree (pointer files only)\n",
    "git submodule update --init \\\n",
    "  default-workspace/projects/bitlearn/0-template/data/raw\n",
    "\n",
    "# 3) Download the large blobs via Git LFS (~22 GB total)\n",
    "cd default-workspace/projects/bitlearn/0-template/data/raw\n",
    "git lfs pull\n",
    "```\n",
    "\n",
    "The VS Code extension copies `default-workspace/` into each new workspace you create. The raw data will then be available under your workspace at:\n",
    "\n",
    "```\n",
    "projects/bitlearn/0-template/data/raw/\n",
    "```\n",
    "Copy the four files into this tutorial’s `data/raw/` folder (relative to this notebook) so the UI panels can find them.\n"
   ]
  },
  {
   "cell_type": "markdown",
   "id": "89e55b37",
   "metadata": {},
   "source": [
    "\n",
    "### Option B — Download directly from Hugging Face\n",
    "\n",
    "Dataset page: **`prjfoxtrot/prjfoxtrot-datasets`**\n",
    "\n",
    "If you prefer Python, you can use `huggingface_hub` to fetch the files and place them under `data/raw/`:\n",
    "\n",
    "> ⚠️ Internet access may be disabled in some environments. If this fails, use Option A or download the files manually and place them in `data/raw/`.\n"
   ]
  },
  {
   "cell_type": "code",
   "execution_count": null,
   "id": "e244d43a",
   "metadata": {},
   "outputs": [],
   "source": [
    "# │ codecell 1 │\n",
    "from pathlib import Path\n",
    "import shutil\n",
    "from huggingface_hub import hf_hub_download\n",
    "\n",
    "REPO = \"prjfoxtrot/prjfoxtrot-datasets\"\n",
    "FILES = {\n",
    "    \"train\": [\n",
    "        \"lut_dataset_SLICEM.json\",\n",
    "        \"lut_dataset_SLICEL.json\",\n",
    "    ],\n",
    "    \"synthetic\": [\n",
    "        \"synthetic_lut_dataset_SLICEM.7z\",\n",
    "        \"synthetic_lut_dataset_SLICEL.7z\",\n",
    "    ],\n",
    "}\n",
    "FILES[\"all\"] = FILES[\"train\"] + FILES[\"synthetic\"]\n",
    "\n",
    "def fetch_bitlearn_raw(which=\"train\", dest=\"data/raw\"):\n",
    "    dest = Path(dest); dest.mkdir(parents=True, exist_ok=True)\n",
    "    names = FILES[\"all\"] if which == \"all\" else FILES.get(which, [which])\n",
    "    for name in names:\n",
    "        src = hf_hub_download(REPO, filename=name, repo_type=\"dataset\", resume_download=True)\n",
    "        shutil.copy2(src, dest / name)\n",
    "        print(dest / name)\n",
    "    return dest\n",
    "\n",
    "#fetch_bitlearn_raw(\"all\") "
   ]
  },
  {
   "cell_type": "markdown",
   "id": "002d6b93",
   "metadata": {},
   "source": [
    "\n",
    "### Verify the four raw files\n",
    "\n",
    "You should see these under `data/raw/`:\n",
    "\n",
    "- `synthetic_lut_dataset_SLICEM.7z`\n",
    "- `lut_dataset_SLICEL.json`\n",
    "- `lut_dataset_SLICEM.json`\n",
    "- `synthetic_lut_dataset_SLICEL.7z`\n"
   ]
  },
  {
   "cell_type": "code",
   "execution_count": null,
   "id": "7c7daa3c",
   "metadata": {},
   "outputs": [],
   "source": [
    "# │ codecell 2 │\n",
    "from pathlib import Path\n",
    "files = list((Path(\"data/raw\")).glob(\"*\"))\n",
    "for p in sorted(files):\n",
    "    try:\n",
    "        sz = p.stat().st_size\n",
    "        print(f\"{p.name:40s}  {sz/1024/1024:8.1f} MB\")\n",
    "    except FileNotFoundError:\n",
    "        print(p.name, \"(missing)\")\n"
   ]
  },
  {
   "cell_type": "markdown",
   "id": "bbdf872b",
   "metadata": {},
   "source": [
    "\n",
    "## 2 Configuration\n",
    "\n",
    "Use the **Config** panel to set project‑wide defaults:\n",
    "\n",
    "- **Experiment title** (used in run/sweep folder names)\n",
    "- **Feature dimension**\n",
    "- **Labels** (name → number of bits)\n",
    "\n",
    "Click **Save** to write a `config.yaml` next to this notebook.\n",
    "\n",
    "> The UI writes only the `dataset` section; other keys are preserved.\n"
   ]
  },
  {
   "cell_type": "code",
   "execution_count": null,
   "id": "cea66995",
   "metadata": {},
   "outputs": [],
   "source": [
    "# │ codecell 3 │\n",
    "from foxtrot_core.bitlearn.ui.panels import launch_config_panel\n",
    "\n",
    "launch_config_panel(\n",
    "    experiment_title=\"ARTIX7_SLICEM\",\n",
    "    feature_dim=256,\n",
    "    labels={\"LC1\": 64, \"LC2\": 64, \"LC3\": 64, \"LC4\": 64},\n",
    ")\n"
   ]
  },
  {
   "cell_type": "markdown",
   "id": "db40681e",
   "metadata": {},
   "source": [
    "\n",
    "## 3 Pre‑processing\n",
    "\n",
    "Transform raw files under `data/raw/` into compact `.npz` files under `data/preprocessed/`.\n",
    "\n",
    "- **Tag** becomes the suffix in `preprocessed_<tag>.npz` (e.g., `train`, `test`).\n",
    "- `sample_n=0` means **use all rows**.\n",
    "\n",
    "### 3.a Training split\n"
   ]
  },
  {
   "cell_type": "code",
   "execution_count": null,
   "id": "c96a9515",
   "metadata": {},
   "outputs": [],
   "source": [
    "# │ codecell 4 │\n",
    "from foxtrot_core.bitlearn.ui.panels import launch_preprocess_panel\n",
    "\n",
    "launch_preprocess_panel(\n",
    "    tag=\"train\",\n",
    "    raw_file=\"data/raw/lut_dataset_SLICEM.json\",\n",
    "    sample_n=3000,   # 0 → all rows\n",
    ")\n"
   ]
  },
  {
   "cell_type": "markdown",
   "id": "6bd0601e",
   "metadata": {},
   "source": [
    "\n",
    "### 3.b Test split\n"
   ]
  },
  {
   "cell_type": "code",
   "execution_count": null,
   "id": "25e035e2",
   "metadata": {},
   "outputs": [],
   "source": [
    "# │ codecell 5 │\n",
    "from foxtrot_core.bitlearn.ui.panels import launch_preprocess_panel\n",
    "\n",
    "launch_preprocess_panel(\n",
    "    tag=\"test\",\n",
    "    raw_file=\"data/raw/synthetic_lut_dataset_SLICEM.7z\",\n",
    "    sample_n=100000,   # 0 → all rows\n",
    ")\n"
   ]
  },
  {
   "cell_type": "markdown",
   "id": "4a4b5d6f",
   "metadata": {},
   "source": [
    "\n",
    "## 4 Training — episodes & sweeps\n",
    "\n",
    "Open the **Train / Sweep** panel to launch single runs or Cartesian sweeps.\n",
    "\n",
    "**Highlights**\n",
    "\n",
    "- Dataset dropdown lists **all** `.npz` under `data/preprocessed/` (use **Refresh** to pick up new files)\n",
    "- Enter comma‑separated values (e.g., `1e-3,5e-4`) or set‑literals (e.g., `{512,256}`) to sweep\n",
    "- Per‑run snapshot: a full `config.yaml` is saved to each episode folder *before* training\n",
    "- Folder naming:\n",
    "  - Sweep root: `experiments/sweep_<experiment_title>_<STAMP>/`\n",
    "  - Episode run: `experiments[/sweep_...]/run_<experiment_title>_<STAMP>_<TAG>/`\n",
    "\n",
    "During training, the progress bar updates per epoch without overlapping text; logs wrap and don’t cause horizontal scrollbars.\n"
   ]
  },
  {
   "cell_type": "code",
   "execution_count": null,
   "id": "932f13bb",
   "metadata": {},
   "outputs": [],
   "source": [
    "# │ codecell 6 │\n",
    "from foxtrot_core.bitlearn.ui.panels import launch_train_panel\n",
    "\n",
    "launch_train_panel()   # UI defaults come from config.yaml\n"
   ]
  },
  {
   "cell_type": "markdown",
   "id": "708fde65",
   "metadata": {},
   "source": [
    "\n",
    "## 5 Evaluation\n",
    "\n",
    "Open the **Evaluate** panel to compute metrics on a test set.\n",
    "\n",
    "**Scopes**\n",
    "\n",
    "- **Label** — evaluate a single trained label model\n",
    "- **Run** — evaluate **all labels** in an episode\n",
    "- **Sweep** — evaluate **all runs × all labels**\n",
    "\n",
    "**Outputs per label** (under `<label_dir>/test/`):\n",
    "\n",
    "- `metrics.json` — `accuracy`, `precision`, `recall`, `f1`, `tp`, `tn`, `fp`, `fn`, plus label‑error rate\n",
    "- `errors.csv` — per‑sample mispredictions with `y_true` vs `y_pred` and bit deltas\n"
   ]
  },
  {
   "cell_type": "code",
   "execution_count": null,
   "id": "c602275a",
   "metadata": {},
   "outputs": [],
   "source": [
    "# │ codecell 7 │\n",
    "from foxtrot_core.bitlearn.ui.panels import launch_test_panel\n",
    "\n",
    "launch_test_panel(\n",
    "    test_npz=\"data/preprocessed/preprocessed_test.npz\"\n",
    ")\n"
   ]
  },
  {
   "cell_type": "markdown",
   "id": "b82c6300",
   "metadata": {},
   "source": [
    "\n",
    "## 6 Programmatic API (optional)\n",
    "\n",
    "You can script training and evaluation without the UI.\n",
    "\n",
    "Below are minimal examples; see the source in `foxtrot_core.bitlearn.core.*` for full details.\n"
   ]
  },
  {
   "cell_type": "code",
   "execution_count": null,
   "id": "67ccc768",
   "metadata": {},
   "outputs": [],
   "source": [
    "# │ codecell 8 │\n",
    "# Evaluate one trained label programmatically\n",
    "from pathlib import Path\n",
    "from foxtrot_core.bitlearn.core.evaluate import evaluate_episode\n",
    "\n",
    "# Point to a label folder (contains model.keras) or its parent episode folder\n",
    "# label_dir = Path(\"experiments/run_ARTIX7_SLICEM_.../LC1\")\n",
    "# result = evaluate_episode(label_dir, Path(\"data/preprocessed/preprocessed_test.npz\"))\n",
    "# print(result.metrics)\n"
   ]
  },
  {
   "cell_type": "code",
   "execution_count": null,
   "id": "fe63cd42",
   "metadata": {},
   "outputs": [],
   "source": [
    "# │ codecell 9 │\n",
    "# Train a single episode programmatically\n",
    "# (UI does this for you; included here for completeness.)\n",
    "from pathlib import Path\n",
    "from foxtrot_core.bitlearn.core.config import TrainingConfig\n",
    "from foxtrot_core.bitlearn.core.train import train_episode\n",
    "\n",
    "# cfg = TrainingConfig(\n",
    "#     dataset_npz=Path(\"data/preprocessed/preprocessed_train.npz\"),\n",
    "#     output_dir=Path(\"experiments/run_manual_example\"),\n",
    "#     epochs=10,\n",
    "#     batch_size=64,\n",
    "#     learning_rate=1e-3,\n",
    "# )\n",
    "# results = train_episode(cfg)\n",
    "# for r in results:\n",
    "#     print(r.label_name, r.metrics.get(\"val_accuracy\", None))\n"
   ]
  },
  {
   "cell_type": "markdown",
   "id": "3314998a",
   "metadata": {},
   "source": [
    "\n",
    "## 7 Directory structure reference\n",
    "\n",
    "After a run, you’ll see something like:\n",
    "\n",
    "```\n",
    "experiments/\n",
    "└─ sweep_ARTIX7_SLICEM_20250810-123456/        # only if sweeping\n",
    "   ├─ run_ARTIX7_SLICEM_20250810-123457_arch512x256_lr1e-3_bs64_ep50/\n",
    "   │  ├─ LC1/\n",
    "   │  │  ├─ model.keras\n",
    "   │  │  ├─ history.npy\n",
    "   │  │  ├─ history.png\n",
    "   │  │  └─ test/\n",
    "   │  │     ├─ metrics.json\n",
    "   │  │     └─ errors.csv\n",
    "   │  ├─ LC2/\n",
    "   │  └─ ...\n",
    "   └─ run_...\n",
    "```\n"
   ]
  },
  {
   "cell_type": "markdown",
   "id": "e75ec3b9",
   "metadata": {},
   "source": [
    "\n",
    "## 8 Troubleshooting & Tips\n",
    "\n",
    "- **No datasets listed** in the panels  \n",
    "  → Ensure the four raw files are under `data/raw/`. For evaluation, ensure test `.npz` is under `data/preprocessed/`.\n",
    "\n",
    "- **Dropdowns don’t show new files**  \n",
    "  → Use the **Refresh** button (Train panel) or re‑run the panel cell.\n"
   ]
  }
 ],
 "metadata": {
  "kernelspec": {
   "display_name": ".venv",
   "language": "python",
   "name": "python3"
  },
  "language_info": {
   "codemirror_mode": {
    "name": "ipython",
    "version": 3
   },
   "file_extension": ".py",
   "mimetype": "text/x-python",
   "name": "python",
   "nbconvert_exporter": "python",
   "pygments_lexer": "ipython3",
   "version": "3.10.12"
  }
 },
 "nbformat": 4,
 "nbformat_minor": 5
}
