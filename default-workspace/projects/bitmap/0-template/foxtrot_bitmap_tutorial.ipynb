{
 "cells": [
  {
   "cell_type": "markdown",
   "id": "63b7fe75",
   "metadata": {},
   "source": [
    "# Foxtrot-Core · Interactive *Bitstream Mapping* Tutorial\n",
    "\n",
    "This hands-on notebook walks you through the *Bitmap* module’s interactive clustering pipeline.\n",
    "You will learn to load raw bit-offset data, sweep DBSCAN / K-Means parameters, monitor runs with a live dashboard, and drill into the resulting clusters – **without writing boiler-plate code**.\n",
    "\n",
    "> **Setup (do this first)**\n",
    "> **Required:** install **foxtrot-core with the _analysis_ extra**  \n",
    "> `pip install -U \"foxtrot-core[analysis]\"`\n",
    ">\n",
    "> This pulls in the data-science stack used by `bitmap.*` (NumPy, pandas, scikit-learn, ipywidgets, ipympl, matplotlib, etc.), so the widgets and plots in this notebook work out-of-the-box.\n",
    ">\n",
    "> **Runtime prerequisites** (installed by the line above):  \n",
    "> • `ipywidgets` ≥ 7.6  ·  • `ipympl` (for `%matplotlib widget`)\n",
    ">\n",
    "> **Optional (GPU acceleration):** RAPIDS cuML  \n",
    "> `pip install --extra-index-url https://pypi.nvidia.com \"foxtrot-core[analysis,rapids]\"`  \n",
    "> or with TensorFlow CUDA as well:  \n",
    "> `pip install --extra-index-url https://pypi.nvidia.com \"foxtrot-core[analysis,gpu,rapids]\"`\n",
    "\n",
    "---\n",
    "\n",
    "## Quick Navigation\n",
    "\n",
    "|  Step | Widget             | What you’ll master                                   |\n",
    "| :---: | :----------------- | :--------------------------------------------------- |\n",
    "|  1    | Backend setup      | Verify install, enable live widgets & hot-reloading  |\n",
    "|  2    | `file_picker`      | Load `.off` offsets + optional one-hot feature masks |\n",
    "|  3    | `clustering_grid`  | Build a DBSCAN / K-Means sweep declaratively         |\n",
    "|  4    | `metric_selector`  | Toggle CSR, silhouette and other metrics on/off      |\n",
    "|  5    | `frame_grid`       | Sweep multiple `frame_size` candidates               |\n",
    "|  6    | `dashboard_runner` | Launch the full experiment with progress bars        |\n",
    "|  7    | `metric_plot`      | Visualise metric trends across the sweep             |\n",
    "|  8    | `cluster_viewer`   | Inspect individual clusters interactively            |\n",
    "|  9    | Power tips         | Caching, sub-sampling, custom metrics                |\n"
   ]
  },
  {
   "cell_type": "markdown",
   "id": "77d23cd9",
   "metadata": {},
   "source": [
    "## 1 · Backend & Imports\n",
    "\n",
    "A couple of magic commands make life easier:"
   ]
  },
  {
   "cell_type": "code",
   "execution_count": null,
   "id": "65df0a92",
   "metadata": {},
   "outputs": [],
   "source": [
    "# │ codecell 1 │\n",
    "# Interactive backend\n",
    "%matplotlib widget\n",
    "\n",
    "# Fallback (if ipympl is unavailable)\n",
    "# %matplotlib tk\n",
    "\n",
    "from foxtrot_core import __version__ as fc_version\n",
    "print(f\"Foxtrot-Core {fc_version} loaded ✓\")\n"
   ]
  },
  {
   "cell_type": "markdown",
   "id": "2b637725",
   "metadata": {},
   "source": [
    "## 2 · Load Bit‑Offset Data `(file_picker)`\n",
    "\n",
    "Run the widget below and point it to **one** `.off` file plus any number of *feature‑mask* files.\n",
    "Each mask is converted into a one‑hot column."
   ]
  },
  {
   "cell_type": "code",
   "execution_count": null,
   "id": "3ebeeb43",
   "metadata": {},
   "outputs": [],
   "source": [
    "# │ codecell 2 │\n",
    "from foxtrot_core.bitmap.ui.sources import file_picker\n",
    "\n",
    "ui_source, data = file_picker()   # ⇦ widget + live DataDict"
   ]
  },
  {
   "cell_type": "markdown",
   "id": "78ce123a",
   "metadata": {},
   "source": [
    "A green ✓ message confirms that `data` now contains:\n",
    "\n",
    "```text\n",
    "{\n",
    "  \"offsets\"      : list[int],\n",
    "  \"feature_files\": list[{\"description\": str, \"offsets\": set[int]}],\n",
    "  \"data_hash\"    : str   # SHA‑256, used by the cache layer\n",
    "}\n",
    "```"
   ]
  },
  {
   "cell_type": "markdown",
   "id": "fe32cd63",
   "metadata": {},
   "source": [
    "## 3 · Build a Parameter Grid `(clustering_grid)`\n",
    "\n",
    "`clustering_grid` discovers every algorithm under `foxtrot_core.bitmap.algorithms` that exposes a `__param_schema__`.  Each parameter row supports:\n",
    "\n",
    "* **static** value *or* **sweep** over a numeric range\n",
    "* categorical drop‑downs / multi‑selects\n",
    "* conditional visibility via *show\\_if* rules\n",
    "\n",
    "> **DBSCAN quick‑start**\n",
    "> • Xilinx 7‑Series → `eps = 1`, `min_samples = 5`\n",
    "> • Intel Flex 10K20 → `eps = 4`, `min_samples = 6`"
   ]
  },
  {
   "cell_type": "code",
   "execution_count": null,
   "id": "3cf810da",
   "metadata": {},
   "outputs": [],
   "source": [
    "# │ codecell 3 │\n",
    "from foxtrot_core.bitmap.ui.params import clustering_grid\n",
    "\n",
    "ui_params, grid_maker = clustering_grid()"
   ]
  },
  {
   "cell_type": "markdown",
   "id": "785fb180",
   "metadata": {},
   "source": [
    "## 4 · Select Quality Metrics `(metric_selector)`\n",
    "\n",
    "The toggle widget is populated directly from the *metrics registry* – see `foxtrot_core.bitmap.metrics`."
   ]
  },
  {
   "cell_type": "code",
   "execution_count": null,
   "id": "a80836e3",
   "metadata": {},
   "outputs": [],
   "source": [
    "# │ codecell 4 │\n",
    "from foxtrot_core.bitmap.ui.params import metric_selector\n",
    "\n",
    "ui_metrics, get_metrics = metric_selector()"
   ]
  },
  {
   "cell_type": "markdown",
   "id": "c73259fa",
   "metadata": {},
   "source": [
    "## 5 · Frame‑Size & Mapping Sweep `(frame_grid)`"
   ]
  },
  {
   "cell_type": "code",
   "execution_count": null,
   "id": "bab2bb4c",
   "metadata": {},
   "outputs": [],
   "source": [
    "# │ codecell 5 │\n",
    "from foxtrot_core.bitmap.ui.params import frame_grid\n",
    "\n",
    "ui_frames, fmap_grid = frame_grid()"
   ]
  },
  {
   "cell_type": "markdown",
   "id": "19d5d984",
   "metadata": {},
   "source": [
    "> **Typical frame sizes**\n",
    "> • Intel Flex → `L = 334`  ·  • Xilinx 7‑Series → `L = 3232`\n",
    "> Only the `row_major` mapping is validated at the moment."
   ]
  },
  {
   "cell_type": "markdown",
   "id": "30039b71",
   "metadata": {},
   "source": [
    "## 6 · Run the Experiment `(dashboard_runner)`\n",
    "\n",
    "The dashboard executes the full grid **in parallel** (default = 8 threads) and streams a live progress bar.\n"
   ]
  },
  {
   "cell_type": "code",
   "execution_count": null,
   "id": "840d47be",
   "metadata": {},
   "outputs": [],
   "source": [
    "# │ codecell 6 │\n",
    "from foxtrot_core.bitmap.ui.runners import dashboard_runner\n",
    "\n",
    "ui_dash, get_results = dashboard_runner(\n",
    "    data,\n",
    "    grid_maker,\n",
    "    workers=24,          # tune to your CPU\n",
    "    live_logging=False,  # verbose per‑job logs\n",
    ")"
   ]
  },
  {
   "cell_type": "markdown",
   "id": "5290bb2e",
   "metadata": {},
   "source": [
    "**Options:**\n",
    "\n",
    "|  Flag                 |  Purpose                                                                                      |\n",
    "| :-------------------- | :-------------------------------------------------------------------------------------------- |\n",
    "|  Keep clustering data | Stores every heavy `clustered_df`. Enable for inspection; disable for long sweeps to save RAM |\n",
    "|  Save metrics         | Writes slim Parquet + CSV files to `./metrics/` right after the run                           |\n",
    "|  Crop window          | Limit the processed region either **by Y‑max** or **by #points**  (see widget tool‑tips)      |"
   ]
  },
  {
   "cell_type": "markdown",
   "id": "e757c8a2",
   "metadata": {},
   "source": [
    "## 7 · Plot Metrics `(metric_plot)`"
   ]
  },
  {
   "cell_type": "code",
   "execution_count": null,
   "id": "0418a604",
   "metadata": {},
   "outputs": [],
   "source": [
    "# │ codecell 7 │\n",
    "from foxtrot_core.bitmap.ui.posts import metric_plot\n",
    "\n",
    "ui_plot = metric_plot(get_results)"
   ]
  },
  {
   "cell_type": "markdown",
   "id": "9e88cc92",
   "metadata": {},
   "source": [
    "`metric_plot` can draw directly from the **last sweep** (*fast*) or from any saved Parquet file (*post‑analysis*).  Enable **Target L** to draw a red dashed guideline, and **Top‑20 table** to print the best configurations by your chosen metric (default = CSR Index).\n"
   ]
  },
  {
   "cell_type": "markdown",
   "id": "bd536ca6",
   "metadata": {},
   "source": [
    "## 8 · Interactive Cluster Viewer `(cluster_viewer)`"
   ]
  },
  {
   "cell_type": "code",
   "execution_count": null,
   "id": "9bae4061",
   "metadata": {},
   "outputs": [],
   "source": [
    "# │ codecell 8 │\n",
    "from foxtrot_core.bitmap.ui.posts import cluster_viewer\n",
    "\n",
    "ui_viewer, refresh_viewer = cluster_viewer(get_results)"
   ]
  },
  {
   "cell_type": "markdown",
   "id": "0d3dc707",
   "metadata": {},
   "source": [
    "Select a run, then click **Plot** to open a zoomed‑in scatter plot of its clusters.  If you forgot to tick *Keep clustering data* the widget will warn you instead of failing silently."
   ]
  },
  {
   "cell_type": "markdown",
   "id": "f360f7da",
   "metadata": {},
   "source": [
    "## 9 · Tips\n",
    "\n",
    "* **RAM usage** – disable *Keep clustering data* once you are happy with the metrics; `clustered_df` can reach many GB.\n",
    "* **Sub‑sampling** – use the **Max pts** crop mode to explore a giant bitstream quickly.\n",
    "* **Parquet reuse** – any Parquet generated by *Save metrics* can be re‑plotted later, shared with collaborators, or version‑controlled.\n",
    "* **Re‑entrancy** – spawn multiple dashboards in one kernel; each keeps its own thread‑pool and widgets.\n",
    "* **GPU acceleration** – when RAPIDS is installed, choose *implementation = gpu* in either DBSCAN or K‑Means for a 10‑50× speed‑up."
   ]
  }
 ],
 "metadata": {
  "kernelspec": {
   "display_name": ".venv",
   "language": "python",
   "name": "python3"
  },
  "language_info": {
   "codemirror_mode": {
    "name": "ipython",
    "version": 3
   },
   "file_extension": ".py",
   "mimetype": "text/x-python",
   "name": "python",
   "nbconvert_exporter": "python",
   "pygments_lexer": "ipython3",
   "version": "3.10.12"
  }
 },
 "nbformat": 4,
 "nbformat_minor": 5
}
