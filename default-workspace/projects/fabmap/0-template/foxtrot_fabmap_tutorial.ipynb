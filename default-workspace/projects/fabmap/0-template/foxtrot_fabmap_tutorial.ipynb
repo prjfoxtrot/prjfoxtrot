{
 "cells": [
  {
   "cell_type": "markdown",
   "id": "346e8997",
   "metadata": {},
   "source": [
    "# Foxtrot-Core · Interactive *Fabric Mapping* Tutorial\n",
    "\n",
    "This mini-guide walks you through the complete box-tiling and\n",
    "coordinate-labelling workflow shipped with **foxtrot-core** – tested on\n",
    "the *XC7A100T-CSG324* FPGA family.\n",
    "\n",
    "> **Setup (do this first)**\n",
    "> **Required:** install **foxtrot-core with the _analysis_ extra**  \n",
    "> `pip install -U \"foxtrot-core[analysis]\"`\n",
    ">\n",
    "> This brings in the stack used by `fabmap.*` (NumPy, pandas, ipywidgets, ipympl, matplotlib, etc.) so widgets and interactive plots work out of the box.  \n",
    "> *Tip:* enable interactive figures with `%matplotlib widget` (provided by `ipympl`).\n",
    "\n",
    "The practical steps:\n",
    "\n",
    "1. **Load an offset mask** (the raw bit-offsets you want to explore).  \n",
    "2. **Define a template + area** and run the vectorised *template-tiler*.  \n",
    "3. **Assign human-friendly coordinates** to each orange box.  \n",
    "4. **Merge several labelled JSON files** and visually inspect the result.  \n",
    "\n",
    "We provide several real-world data sets so you can start experimenting\n",
    "immediately.\n",
    "\n",
    "## 1 · Example data files\n",
    "\n",
    "All paths are relative to your project root.\n",
    "\n",
    "| Purpose | Path | Notes |\n",
    "|---------|------|-------|\n",
    "| **Full LUT mask** – every LUT configuration bit for the XC7A100T part | `projects/fabmap/0-template/offsets/XC7A100TCSG324_FULL_LUTMASK_AddedMissingLUT.off` | Use **frame size 3232**. |\n",
    "| Eight-LUT demo | `projects/fabmap/0-template/offsets/XC7A100TCSG324_EIGHT_LUTMASK.off` | Matches placement CSV below. |\n",
    "| Single-LUT demo | `projects/fabmap/0-template/offsets/XC7A100TCSG324_SINGLE_LUTMASK.off` | Matches placement CSV below. |\n",
    "| Placement coordinates (Eight LUTs) | `projects/fabmap/0-template/placements/XC7A100TCSG324_EIGHT_LUTMASK.csv` | Confirms map orientation. |\n",
    "| Placement coordinates (Single LUT) | `projects/fabmap/0-template/placements/XC7A100TCSG324_SINGLE_LUTMASK.csv` | idem. |\n",
    "| **Pre-segmented** (un-labelled) LUT boxes | `projects/fabmap/0-template/segments/unlabeled/luts/XC7A100TCSG324.json` | Every LUT boxed – great for orientation. |\n",
    "| **Pre-segmented** (un-labelled) Slice boxes | `projects/fabmap/0-template/segments/unlabeled/slices/XC7A100TCSG324.json` | One orange box per SLICE. |\n",
    "| 8 × split labelled Slice files | `projects/fabmap/0-template/segments/labeled/slices/XC7A100TCSG324_SPLIT_<N>.json` | Coordinates applied per region. |\n",
    "| **Final merged** Slice labels | `projects/fabmap/0-template/segments/labeled/slices/XC7A100TCSG324.json` | What we’ll get after *merge_runner*. |\n"
   ]
  },
  {
   "cell_type": "code",
   "execution_count": null,
   "id": "45eedfb3",
   "metadata": {},
   "outputs": [],
   "source": [
    "# │ codecell 1 │\n",
    "%matplotlib widget\n",
    "\n",
    "# Fallback (if ipympl is unavailable)\n",
    "# %matplotlib tk\n",
    "\n",
    "from foxtrot_core import __version__ as fc_version\n",
    "print(f\"Foxtrot-Core {fc_version} loaded ✓\")\n"
   ]
  },
  {
   "cell_type": "markdown",
   "id": "e55b0edd",
   "metadata": {},
   "source": [
    "## 2 Loading the Offset File\n",
    "\n",
    "During the **BitGen** fuzz-campaign we toggled every LUT on a bare\n",
    "*XC7A100T-CSG324* design and logged the set bits. Vivado omitted **one\n",
    "LUT** due to DRC limitations, so we manually inspected the 64-bit gap\n",
    "in the frame stream, added the missing offsets, and saved the result to  \n",
    "`XC7A100TCSG324_FULL_LUTMASK_AddedMissingLUT.off`.\n",
    "\n",
    "You will also find:\n",
    "\n",
    "* **Eight-LUT** and **Single-LUT** masks – handy orientation sanity-checks\n",
    "  because their *fabric* coordinates were logged during BitGen and live\n",
    "  in the matching `placements/*.csv` files.\n"
   ]
  },
  {
   "cell_type": "code",
   "execution_count": null,
   "id": "a16b09a1",
   "metadata": {},
   "outputs": [],
   "source": [
    "# │ codecell 2 │\n",
    "from foxtrot_core.fabmap.ui.sources import offset_loader\n",
    "\n",
    "ui_loader, get_df, fs_w = offset_loader()   # ⇦ widget + helpers"
   ]
  },
  {
   "cell_type": "markdown",
   "id": "8a1bd5f3",
   "metadata": {},
   "source": [
    "## 3 Running the Tiler\n",
    "\n",
    "Once you see the green **✓ loaded** message the scatter‑plot widget\n",
    "activates automatically.\n",
    "\n",
    "### Choose your test data\n",
    "\n",
    "| Mask file | Size | Why it’s useful |\n",
    "|-----------|------|-----------------|\n",
    "| `…_FULL_LUTMASK_AddedMissingLUT.off` | **63400 LUTs** | Stress‑test anchor detection – every LUT bit is present. |\n",
    "| `…_EIGHT_LUTMASK.off` | **8 LUTs** | Check **fabric orientation** – use together with the placement CSV to verify X/Y mapping. |\n",
    "| `…_SINGLE_LUTMASK.off` | **1 LUT** | Ultra‑quick sanity test; expect exactly one orange box after tiling. |\n",
    "\n",
    "*(All live under `projects/fabmap/0-template/offsets/` – frame‑size is\n",
    "**3232** for this device.)*\n",
    "\n",
    "---\n",
    "\n",
    "### Five‑step workflow\n",
    "\n",
    "1. **Template →** select the *smallest* red pattern that still captures\n",
    "   the feature of interest (e.g. \\\n",
    "   • **64 bits** → one LUT or \\\n",
    "   • **256 bits** → one SLICE ).\n",
    "\n",
    "2. **Area →** drag a green rectangle around the fabric region you wish\n",
    "   to tile – the larger the better coverage.\n",
    "\n",
    "3. Click **Tile Grid** → orange boxes appear, one per template match.\n",
    "\n",
    "4. Use **Shift / Pad** to refine box placement:  \n",
    "   * shift moves the grid; pad shrinks/expands each box.\n",
    "\n",
    "5. *(Optional)* **Export Boxes** – saves to\n",
    "   `boxes_<timestamp>.json` for later import.\n",
    "\n",
    "---\n",
    "\n",
    "### Extra experiments\n",
    "\n",
    "* **Orientation check**:  \n",
    "  Load `EIGHT_LUTMASK`. After tiling, each orange box should overlay the eight blue dots from the placement file exactly – confirming X/Y axes.\n",
    "\n",
    "* **Import pre‑segmented boxes**:  \n",
    "  Click **Load Boxes** and choose  \n",
    "  `segments/unlabeled/luts/XC7A100TCSG324.json` or  \n",
    "  `segments/unlabeled/slices/XC7A100TCSG324.json`  \n",
    "  to visualise the *auto‑generated* full‑device slice masks.\n"
   ]
  },
  {
   "cell_type": "code",
   "execution_count": null,
   "id": "c2e04915",
   "metadata": {},
   "outputs": [],
   "source": [
    "# │ codecell 3 │\n",
    "from foxtrot_core.fabmap.ui.runners.tiler_runner import tiler_runner\n",
    "\n",
    "runner, get_boxes = tiler_runner(get_df, fs_w)\n"
   ]
  },
  {
   "cell_type": "markdown",
   "id": "d9c665bf",
   "metadata": {},
   "source": [
    "## 4 Running the Coordinate Mapper\n",
    "\n",
    "1. Click **Transfer boxes** once tiling completes (blue progress bar).  \n",
    "2. Use pattern drop‑downs – or free‑type – to craft row/col labels.  \n",
    "3. Prefix + Separator let you build things like `SLICE_X123Y456`.  \n",
    "4. **Apply labels** shows a live preview table.  \n",
    "5. **Export JSON** when happy (repeat for other regions if needed).\n"
   ]
  },
  {
   "cell_type": "code",
   "execution_count": null,
   "id": "4ae73450",
   "metadata": {},
   "outputs": [],
   "source": [
    "# │ codecell 4 │\n",
    "from foxtrot_core.fabmap.ui.runners.coords_runner import coords_runner\n",
    "\n",
    "coords_ui, get_labels = coords_runner(get_boxes, fs_w)\n"
   ]
  },
  {
   "cell_type": "markdown",
   "id": "aedba864",
   "metadata": {},
   "source": [
    "# 5 Running the JSON Merger\n",
    "\n",
    "Drag all eight `XC7A100TCSG324_SPLIT_<N>.json` files,  \n",
    "press **Merge & Visualise**.\n",
    "\n",
    "* Duplicate labels, overlapping offsets or unlabeled gaps are flagged.  \n",
    "* Hover any blue point to see its coordinate.  \n",
    "* Finish with **Export merged JSON** – see\n",
    "  `XC7A100TCSG324.json` for the golden reference.\n"
   ]
  },
  {
   "cell_type": "code",
   "execution_count": null,
   "id": "1a4ddc9f",
   "metadata": {},
   "outputs": [],
   "source": [
    "# │ codecell 5 │\n",
    "from foxtrot_core.fabmap.ui.runners import merge_runner\n",
    "\n",
    "merge_ui, get_merged = merge_runner(frame_size_widget=fs_w)\n"
   ]
  }
 ],
 "metadata": {
  "kernelspec": {
   "display_name": ".venv",
   "language": "python",
   "name": "python3"
  },
  "language_info": {
   "codemirror_mode": {
    "name": "ipython",
    "version": 3
   },
   "file_extension": ".py",
   "mimetype": "text/x-python",
   "name": "python",
   "nbconvert_exporter": "python",
   "pygments_lexer": "ipython3",
   "version": "3.10.12"
  }
 },
 "nbformat": 4,
 "nbformat_minor": 5
}
